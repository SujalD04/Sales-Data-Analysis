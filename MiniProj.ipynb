{
  "cells": [
    {
      "cell_type": "markdown",
      "metadata": {
        "id": "53-yUrKNh9_b"
      },
      "source": [
        "# Online Sales Data Analysis"
      ]
    },
    {
      "cell_type": "markdown",
      "metadata": {
        "id": "ITuPOuf9iBSp"
      },
      "source": [
        "## Importing Necessary Libraries"
      ]
    },
    {
      "cell_type": "code",
      "execution_count": null,
      "metadata": {
        "colab": {
          "base_uri": "https://localhost:8080/"
        },
        "id": "Eci-t9yViDhX",
        "outputId": "6466fb98-8ead-4c0d-be46-b1a6968d04b6"
      },
      "outputs": [],
      "source": [
        "# Importing all the required libraries for data manipulation, visualization, and analysis.\n",
        "import numpy as np\n",
        "import pandas as pd\n",
        "import datetime as dt\n",
        "import plotly.express as px\n",
        "import plotly.graph_objects as go\n",
        "from mlxtend.frequent_patterns import apriori, association_rules\n",
        "from scipy.stats import mstats"
      ]
    },
    {
      "cell_type": "code",
      "execution_count": null,
      "metadata": {
        "colab": {
          "base_uri": "https://localhost:8080/"
        },
        "id": "hvvkPbXsaRtM",
        "outputId": "960196f8-d40f-48e2-973c-248ce4b141d1"
      },
      "outputs": [],
      "source": [
        "# Connect to Drive\n",
        "from google.colab import drive\n",
        "drive.mount('/content/drive')"
      ]
    },
    {
      "cell_type": "markdown",
      "metadata": {
        "id": "0T1l137-iFdU"
      },
      "source": [
        "## Data Preprocessing"
      ]
    },
    {
      "cell_type": "markdown",
      "metadata": {
        "id": "jGb1kQKwiIWv"
      },
      "source": [
        "### One Hot Encoding for Countries\n",
        "#### We start by reading in the CSV file and performing one hot encoding on the 'Country' column to prepare the data for further analysis."
      ]
    },
    {
      "cell_type": "code",
      "execution_count": null,
      "metadata": {
        "colab": {
          "base_uri": "https://localhost:8080/"
        },
        "id": "xJpFIaCYiLiP",
        "outputId": "af2245aa-310c-4dbe-9253-1067fb53680d"
      },
      "outputs": [],
      "source": [
        "# Load data and encode the 'Country' column into numerical values.\n",
        "file_path = '/content/drive/MyDrive/OnlineRetail.csv'\n",
        "df = pd.read_csv(file_path, encoding='ISO-8859-1')\n",
        "\n",
        "# Display the unique countries in the 'Country' column\n",
        "unique_countries = df['Country'].unique()\n",
        "\n",
        "# Generate the country encoding dictionary\n",
        "country_encoding = {country: index + 1 for index, country in enumerate(unique_countries)}\n",
        "\n",
        "# Encode the 'Country' column using the generated country encoding dictionary\n",
        "df['Country_Encoded'] = df['Country'].map(country_encoding)\n",
        "\n",
        "# Rename UnitPrice to Price\n",
        "df.rename(columns={'UnitPrice': 'Price'}, inplace=True)\n",
        "\n",
        "# Convert 'Quantity' and 'Price' columns to numeric, setting errors='coerce' to handle non-numeric values ( 0nly for II)\n",
        "df['Quantity'] = pd.to_numeric(df['Quantity'], errors='coerce')\n",
        "df['Price'] = pd.to_numeric(df['Price'], errors='coerce')\n",
        "\n",
        "# Calculate the total value for each item by multiplying 'Quantity' with 'Price'\n",
        "df['Total'] = df['Quantity'] * df['Price']\n",
        "\n",
        "\n",
        "# Save the modified DataFrame to a new CSV file\n",
        "output_file_path = '/content/online_retail_updated.csv'\n",
        "df.to_csv(output_file_path, index=False)"
      ]
    },
    {
      "cell_type": "markdown",
      "metadata": {
        "id": "x_XZWsBuiNzt"
      },
      "source": [
        "## Data overview"
      ]
    },
    {
      "cell_type": "markdown",
      "metadata": {
        "id": "skgV7f2AiRQU"
      },
      "source": [
        "### Checking and Preparing the Data\n",
        "#### We load the updated CSV and perform basic data overview operations like displaying the first few rows and getting summary information about the data.\n"
      ]
    },
    {
      "cell_type": "code",
      "execution_count": null,
      "metadata": {
        "colab": {
          "base_uri": "https://localhost:8080/",
          "height": 261
        },
        "id": "PpHYLqs4iVcj",
        "outputId": "14f4fcf2-b99b-4479-8f4a-37afbeeb9ef4"
      },
      "outputs": [],
      "source": [
        "# Load the updated CSV file with one-hot encoding.\n",
        "retail = pd.read_csv('/content/online_retail_updated.csv')\n",
        "\n",
        "# Display the first few rows of the dataset to verify the content.\n",
        "retail.head()"
      ]
    },
    {
      "cell_type": "code",
      "execution_count": null,
      "metadata": {
        "colab": {
          "base_uri": "https://localhost:8080/"
        },
        "id": "Nk4fVF5opM5B",
        "outputId": "936abc7e-92b4-4ddc-d9db-1a5dc238c2ec"
      },
      "outputs": [],
      "source": [
        "# Display basic information about the dataset to understand its structure.\n",
        "retail.info()"
      ]
    },
    {
      "cell_type": "code",
      "execution_count": null,
      "metadata": {
        "colab": {
          "base_uri": "https://localhost:8080/"
        },
        "id": "97C0Wt_mpSAd",
        "outputId": "2cc404d0-719c-4db0-d33e-3a5bc51e5a83"
      },
      "outputs": [],
      "source": [
        "# Display all countries and the encoding\n",
        "country_encoding"
      ]
    },
    {
      "cell_type": "markdown",
      "metadata": {
        "id": "7oCubCcpiwQ9"
      },
      "source": [
        "## Apriori Algorithm for Market Basket Analysis\n",
        "#### We apply the Apriori algorithm to find frequent itemsets and generate association rules."
      ]
    },
    {
      "cell_type": "code",
      "execution_count": null,
      "metadata": {
        "colab": {
          "base_uri": "https://localhost:8080/",
          "height": 478
        },
        "id": "48wROPTnizHe",
        "outputId": "cffc7dbe-2b35-419e-feaf-22a35e5e4cf5"
      },
      "outputs": [],
      "source": [
        "# Grouping the data to convert into transaction format for Apriori\n",
        "# Converting data into transaction format suitable for applying Apriori algorithm.\n",
        "transactions = retail.groupby(['Quantity', 'Country_Encoded'])['Quantity'].count().unstack().reset_index().fillna(0).set_index('Quantity')\n",
        "\n",
        "# Converting the data into boolean format for analysis.\n",
        "transactions_boolean = transactions > 0\n",
        "\n",
        "# Applying Apriori Algorithm to find frequent itemsets.\n",
        "frequent_itemsets = apriori(transactions_boolean, min_support=0.05, use_colnames=True)\n",
        "\n",
        "# Generating association rules based on the frequent itemsets found.\n",
        "rules = association_rules(frequent_itemsets, metric='lift', min_threshold=1)\n",
        "rules"
      ]
    },
    {
      "cell_type": "markdown",
      "metadata": {
        "id": "LIHicN83i1cf"
      },
      "source": [
        "## Interquartile Range (IQR) Calculation for Outlier Detection\n",
        "#### We calculate the IQR for each numerical column to understand the spread of the data and detect potential outliers.\n"
      ]
    },
    {
      "cell_type": "code",
      "execution_count": null,
      "metadata": {
        "colab": {
          "base_uri": "https://localhost:8080/",
          "height": 313
        },
        "id": "73lHbL4Ci2w6",
        "outputId": "f208b269-e2ce-4a23-94a5-dbf6e2051e34"
      },
      "outputs": [],
      "source": [
        "# Select all numerical columns for analysis.\n",
        "numerical_columns = retail.select_dtypes(include=['int64', 'float64']).columns\n",
        "# Calculate Q1 (25th percentile) and Q3 (75th percentile) for each numerical column.\n",
        "Q1 = retail[numerical_columns].quantile(0.25)\n",
        "Q3 = retail[numerical_columns].quantile(0.75)\n",
        "# Calculate IQR to detect potential outliers.\n",
        "IQR = Q3 - Q1\n",
        "print(\"Interquartile Range (IQR) for each numerical column:\")\n",
        "IQR"
      ]
    },
    {
      "cell_type": "markdown",
      "metadata": {
        "id": "wUEjByQri4fe"
      },
      "source": [
        "## Winsorization for Outlier Handling\n",
        "#### Winsorization is performed to handle outliers by capping extreme values at the specified percentiles.\n"
      ]
    },
    {
      "cell_type": "code",
      "execution_count": null,
      "metadata": {
        "colab": {
          "base_uri": "https://localhost:8080/",
          "height": 261
        },
        "id": "OB3lYuKzi6ZF",
        "outputId": "0fdcba71-655e-404a-9344-6d28c9274294"
      },
      "outputs": [],
      "source": [
        "# Create a temp variable to strore retail\n",
        "temp = retail.copy()\n",
        "\n",
        "# Define limits for Winsorization to cap extreme values in the dataset.\n",
        "lower_limit = 0.05\n",
        "upper_limit = 0.95\n",
        "# Apply Winsorization to handle extreme outliers.\n",
        "numerical_columns = df.select_dtypes(include=['int64', 'float64']).columns\n",
        "temp[numerical_columns] = temp[numerical_columns].apply(lambda x: mstats.winsorize(x, limits=(lower_limit, upper_limit)))\n",
        "temp.head()"
      ]
    },
    {
      "cell_type": "markdown",
      "metadata": {
        "id": "U6JoOGdoi8q6"
      },
      "source": [
        "## General Sales Analytics\n",
        "### Most and Least Expensive Product\n",
        "#### We identify the most and least expensive products based on price."
      ]
    },
    {
      "cell_type": "code",
      "execution_count": null,
      "metadata": {
        "colab": {
          "base_uri": "https://localhost:8080/",
          "height": 144
        },
        "collapsed": true,
        "id": "c81SjLwTjHvU",
        "outputId": "d4fa5698-bcee-4931-8a72-70f208f01a74"
      },
      "outputs": [],
      "source": [
        "# Identify the product with the highest price.\n",
        "most_expensive = retail.loc[retail['Price'] == retail['Price'].max()]\n",
        "most_expensive"
      ]
    },
    {
      "cell_type": "code",
      "execution_count": null,
      "metadata": {
        "colab": {
          "base_uri": "https://localhost:8080/",
          "height": 180
        },
        "id": "t_xjNBF52MEy",
        "outputId": "f8dbcff9-b9d7-48d8-c1fd-076db72e953a"
      },
      "outputs": [],
      "source": [
        "# Identify the product with the lowest price and aggregate quantities for better understanding.\n",
        "least_expensive = retail.loc[retail['Price'] == retail['Price'].min()]\n",
        "least_expensive\n"
      ]
    },
    {
      "cell_type": "markdown",
      "metadata": {
        "id": "3rt6RGjWlIf-"
      },
      "source": [
        "## Customer Analysis\n",
        "### Total Purchase Amount\n",
        "#### We analyze customers based on the total amount they have spent to determine the most and least valuable clients.\n"
      ]
    },
    {
      "cell_type": "code",
      "execution_count": null,
      "metadata": {
        "colab": {
          "base_uri": "https://localhost:8080/",
          "height": 410
        },
        "id": "iLJ1q5HulS2r",
        "outputId": "10a9a088-538c-4c3e-f841-29595922dd6e"
      },
      "outputs": [],
      "source": [
        "# Group by customers to calculate the total amount spent by each customer.\n",
        "retail_customers = retail.groupby(['Customer ID', 'Country'], as_index=False)['Total'].agg('sum')\n",
        "# Get the customers with the least total purchases.\n",
        "retail_customers_asc = retail_customers.sort_values('Total').head(10)\n",
        "# Get the customers with the highest total purchases.\n",
        "retail_customers_desc = retail_customers.sort_values('Total', ascending=False).head(10)"
      ]
    },
    {
      "cell_type": "markdown",
      "metadata": {
        "id": "35rp1ylmlUQf"
      },
      "source": [
        "#### Plotting Customers with Max/Min Total Purchase Amount\n"
      ]
    },
    {
      "cell_type": "code",
      "execution_count": null,
      "metadata": {
        "id": "RKY2in1KlV2E"
      },
      "outputs": [],
      "source": [
        "# Plotting the customers with the maximum total purchase amount.\n",
        "fig = go.Figure(data=[go.Bar(name='Customers with Max Total Purchase Amount', x=retail_customers_desc['Customer ID'].astype(str), y=retail_customers_desc['Total'], marker_opacity=1, hovertext=retail_customers_desc['Country'], marker={'color': retail_customers_desc['Total'], 'colorscale': 'Rainbow'})])\n",
        "fig.update_layout(title='Customers with Max Total Purchase Amount', title_x=0.45, xaxis_title=\"Customer ID\", yaxis_title=\"Total Amount, £\", plot_bgcolor='white')\n",
        "fig.show()\n",
        "\n",
        "# Plotting the customers with the minimum total purchase amount.\n",
        "fig = go.Figure(data=[go.Bar(name='Customers with Min Total Purchase Amount', x=retail_customers_asc['Customer ID'].astype(str), y=retail_customers_asc['Total'], marker_opacity=1, hovertext=retail_customers_asc['Country'], marker={'color': retail_customers_asc['Total'], 'colorscale': 'Rainbow'})])\n",
        "fig.update_layout(title='Customers with Min Total Purchase Amount', title_x=0.45, xaxis_title=\"Customer ID\", yaxis_title=\"Total Amount Returned, £\", plot_bgcolor='white')\n",
        "fig.show()"
      ]
    },
    {
      "cell_type": "markdown",
      "metadata": {
        "id": "rBHZB-d6lXa1"
      },
      "source": [
        "# Country Analysis\n",
        "\n",
        "### Total Purchase Amount by Country\n",
        "#### We find the top 10 countries with the highest and lowest total purchase amounts.\n"
      ]
    },
    {
      "cell_type": "code",
      "execution_count": null,
      "metadata": {
        "id": "8fwaxAfLlaAv"
      },
      "outputs": [],
      "source": [
        "## Group by countries to calculate the total amount of purchases for each country.\n",
        "retail_countries_purchase = retail.groupby(['Country'], as_index=False)['Total'].agg('sum')\n",
        "# Get the countries with the least total purchases.\n",
        "retail_countries_purchase_asc = retail_countries_purchase.sort_values('Total').head(10)\n",
        "# Get the countries with the highest total purchases.\n",
        "retail_countries_purchase_desc = retail_countries_purchase.sort_values('Total', ascending=False).head(10)"
      ]
    },
    {
      "cell_type": "markdown",
      "metadata": {
        "id": "YNrYvF3WlcJM"
      },
      "source": [
        "#### Plotting Countries with Max/Min Total Purchase Amount\n"
      ]
    },
    {
      "cell_type": "code",
      "execution_count": null,
      "metadata": {
        "id": "EjvXGETGlbSG"
      },
      "outputs": [],
      "source": [
        "# Plotting the countries with the maximum total purchase amount.\n",
        "fig = go.Figure(data=[go.Bar(name='Countries with Max Total Purchase Amount', x=retail_countries_purchase_desc['Country'].astype(str), y=retail_countries_purchase_desc['Total'], marker_opacity=1, marker={'color': retail_countries_purchase_desc['Total'], 'colorscale': 'Rainbow'})])\n",
        "fig.update_layout(title='Countries with Max Total Purchase Sum', title_x=0.45, xaxis_title=\"Countries\", yaxis_title=\"Total Amount, £\", plot_bgcolor='white')\n",
        "fig.show()\n",
        "\n",
        "# Plotting the countries with the minimum total purchase amount.\n",
        "fig = go.Figure(data=[go.Bar(name='Countries with Min Total Purchase Amount', x=retail_countries_purchase_asc['Country'].astype(str), y=retail_countries_purchase_asc['Total'], marker_opacity=1, marker={'color': retail_countries_purchase_asc['Total'], 'colorscale': 'Rainbow'})])\n",
        "fig.update_layout(title='Countries with Min Total Purchase Amount', title_x=0.45, xaxis_title=\"Countries\", yaxis_title=\"Total Amount, £\", plot_bgcolor='white')\n",
        "fig.show()"
      ]
    },
    {
      "cell_type": "markdown",
      "metadata": {
        "id": "v5rKn333lio1"
      },
      "source": [
        "### Unique Customers by Country\n",
        "#### We analyze which countries have the largest and smallest numbers of unique customers.\n"
      ]
    },
    {
      "cell_type": "code",
      "execution_count": null,
      "metadata": {
        "id": "otbPRXfUlkbI"
      },
      "outputs": [],
      "source": [
        "# Group by countries to find the number of unique customers from each country.\n",
        "retail_countries_customers = retail.groupby(['Country'], as_index=False)['Customer ID'].agg({'Customer ID': 'nunique'})\n",
        "retail_countries_customers.rename(columns={'Customer ID': 'Customer Count'}, inplace=True)\n",
        "\n",
        "# Finding countries with the largest and smallest number of unique customers.\n",
        "retail_countries_customers_asc = retail_countries_customers.sort_values('Customer Count').head(10)\n",
        "retail_countries_customers_desc = retail_countries_customers.sort_values('Customer Count', ascending=False).head(10)"
      ]
    },
    {
      "cell_type": "markdown",
      "metadata": {
        "id": "IvzMXEZPllb-"
      },
      "source": [
        "#### Plotting Countries with Largest/Smallest Number of Unique Customers\n"
      ]
    },
    {
      "cell_type": "code",
      "execution_count": null,
      "metadata": {
        "id": "jS6JBAAZln8r"
      },
      "outputs": [],
      "source": [
        "# Plotting countries with the largest number of unique customers.\n",
        "fig = go.Figure(data=[go.Bar(name='Countries with Largest Number of Unique Customers',\n",
        "                             x=retail_countries_customers_desc['Country'].astype(str),\n",
        "                             y=retail_countries_customers_desc['Customer Count'],\n",
        "                             marker_opacity=1,\n",
        "                             marker={'color': retail_countries_customers_desc['Customer Count'], 'colorscale': 'Rainbow'})])\n",
        "fig.update_layout(title='Countries with Largest Number of Unique Customers', title_x=0.45,\n",
        "                  xaxis_title=\"Countries\", yaxis_title=\"Number of Unique Customers\", plot_bgcolor='white')\n",
        "fig.show()\n",
        "\n",
        "# Plotting countries with the smallest number of unique customers.\n",
        "fig = go.Figure(data=[go.Bar(name='Countries with Smallest Number of Unique Customers',\n",
        "                             x=retail_countries_customers_asc['Country'].astype(str),\n",
        "                             y=retail_countries_customers_asc['Customer Count'],\n",
        "                             marker_opacity=1,\n",
        "                             marker={'color': retail_countries_customers_desc['Customer Count'], 'colorscale': 'Rainbow'})])\n",
        "fig.update_layout(title='Countries with Smallest Number of Unique Customers', title_x=0.45,\n",
        "                  xaxis_title=\"Countries\", yaxis_title=\"Number of Unique Customers\", plot_bgcolor='white')\n",
        "fig.show()"
      ]
    },
    {
      "cell_type": "markdown",
      "metadata": {
        "id": "o6Rf8TINlwNq"
      },
      "source": [
        "## Product Analysis\n",
        "\n",
        "### Quantity Analysis\n",
        "#### We analyze the top 10 bestselling products and the 10 products with the most returns."
      ]
    },
    {
      "cell_type": "code",
      "execution_count": null,
      "metadata": {
        "id": "eIvP-jF-ly5d"
      },
      "outputs": [],
      "source": [
        "# Group by product descriptions to calculate the total quantity sold for each product.\n",
        "retail_products = retail.groupby(['Description'], as_index=False)['Quantity'].agg('sum')\n",
        "# Get the products with the least quantities sold (most returns).\n",
        "retail_products_asc = retail_products.sort_values('Quantity').head(10)\n",
        "# Get the products with the highest quantities sold (bestselling).\n",
        "retail_products_desc = retail_products.sort_values('Quantity', ascending=False).head(10)"
      ]
    },
    {
      "cell_type": "markdown",
      "metadata": {
        "id": "vd-LbThPlz8t"
      },
      "source": [
        "#### Plotting Bestselling Products and Products with Most Returns\n"
      ]
    },
    {
      "cell_type": "code",
      "execution_count": null,
      "metadata": {
        "id": "rntLeLgil1MU"
      },
      "outputs": [],
      "source": [
        "# Plotting the bestselling products.\n",
        "fig = go.Figure(data=[go.Bar(name='10 Bestselling Products', x=retail_products_desc['Description'].astype(str), y=retail_products_desc['Quantity'], marker_opacity=1, marker={'color': retail_products_desc['Quantity'], 'colorscale': 'Rainbow'})])\n",
        "fig.update_layout(title='10 Bestselling Products', title_x=0.45, xaxis_title=\"Products\", yaxis_title=\"Total Quantity Sold\", plot_bgcolor='white')\n",
        "fig.show()\n",
        "\n",
        "# Plotting the products with the most returns.\n",
        "fig = go.Figure(data=[go.Bar(name='10 Products with Most Returns', x=retail_products_asc['Description'].astype(str), y=retail_products_asc['Quantity'], marker_opacity=1, marker={'color': retail_products_asc['Quantity'], 'colorscale': 'Rainbow'})])\n",
        "fig.update_layout(title='10 Products with Most Returns', title_x=0.45, xaxis_title=\"Products\", yaxis_title=\"Total Quantity Returned\", plot_bgcolor='white')\n",
        "fig.show()"
      ]
    },
    {
      "cell_type": "markdown",
      "metadata": {
        "id": "2knQkqxzl5dk"
      },
      "source": [
        "## Cohort Analysis\n",
        "\n",
        "### Customer Retention Analysis\n",
        "#### We perform a cohort analysis to understand customer retention over different periods.\n"
      ]
    },
    {
      "cell_type": "code",
      "execution_count": null,
      "metadata": {
        "id": "YcRUYUpBl5Ff"
      },
      "outputs": [],
      "source": [
        "# Concert InvoiceDate to datetime\n",
        "retail['InvoiceDate'] = pd.to_datetime(retail['InvoiceDate'], format='%m/%d/%y %H:%M', errors='coerce')\n",
        "# Extract quarter and year from InvoiceDate for cohort analysis.\n",
        "retail['InvoiceQuarter'] = ('Q' + retail['InvoiceDate'].dt.quarter.astype(str) + '/' + retail['InvoiceDate'].dt.year.astype(str))\n",
        "# Create a mapping of quarters for the cohort analysis.\n",
        "quarters_map = dict(zip(retail['InvoiceQuarter'].unique(), range(len(retail['InvoiceQuarter'].unique()))))\n",
        "# Map the invoice quarter to a unique ID for analysis.\n",
        "retail['InvoiceQuarterID'] = retail['InvoiceQuarter'].map(quarters_map)\n",
        "# Create cohort identifiers for each customer.\n",
        "retail['CohortQuarterID'] = retail.groupby('Customer ID')['InvoiceQuarterID'].transform('min')\n",
        "retail['CohortQuarter'] = retail['CohortQuarterID'].map(dict(zip(quarters_map.values(), quarters_map.keys())))\n",
        "retail['CohortIndex'] = retail['InvoiceQuarterID'] - retail['CohortQuarterID']\n",
        "# Aggregate customer count for each cohort.\n",
        "cohort_retention = retail.groupby(['CohortQuarterID', 'CohortIndex'])['Customer ID'].apply(pd.Series.nunique).reset_index()\n",
        "cohort_retention.rename(columns={'Customer ID': 'Customer Count'}, inplace=True)\n",
        "cohort_retention_count = cohort_retention.pivot_table(index='CohortQuarterID', columns='CohortIndex', values='Customer Count')\n",
        "# Map cohort quarters to proper names.\n",
        "cohort_retention_count['Cohort Quarter'] = cohort_retention_count.index.map(dict(zip(quarters_map.values(), quarters_map.keys())))\n",
        "cohort_retention_count = cohort_retention_count.set_index('Cohort Quarter')\n",
        "cohort_size = cohort_retention_count.iloc[:, 0]\n",
        "retention = cohort_retention_count.divide(cohort_size, axis=0)\n",
        "retention = (retention * 100).round(2)\n",
        "retention = retention.iloc[::-1]\n",
        "# Plotting cohort retention rates.\n",
        "fig = go.Figure(data=go.Heatmap(z=retention, y=retention.index, colorscale='Greens', text=retention, texttemplate=\"%{text}%\", colorbar_title='Retention Rate, %', xgap=3, ygap=3))\n",
        "fig.update_layout(title=\"Cohort Analysis: Retention Rate\", xaxis_title=\"Cohorts\", yaxis_title=\"Quarters\", plot_bgcolor='white')\n",
        "fig.show()"
      ]
    },
    {
      "cell_type": "markdown",
      "metadata": {
        "id": "zHXzycfml_yM"
      },
      "source": [
        "## Online Sales on Timeline\n",
        "### Quarterly and Monthly Sales Analysis\n",
        "#### We plot the total sales by quarter and by month to observe the trends."
      ]
    },
    {
      "cell_type": "code",
      "execution_count": null,
      "metadata": {
        "id": "dJzB-nEDgMiU"
      },
      "outputs": [],
      "source": [
        "# Group by quarters to calculate total sales for each quarter.\n",
        "retail_quarters_by_sales = retail.groupby(['InvoiceQuarterID'], as_index=False)['Total'].agg('sum')\n",
        "# Map quarters to proper names for analysis.\n",
        "retail_quarters_by_sales['InvoiceQuarter'] = retail_quarters_by_sales['InvoiceQuarterID'].map(dict(zip(quarters_map.values(), quarters_map.keys())))\n",
        "# Plotting total sales by quarter.\n",
        "fig = go.Figure(data=[go.Bar(name='Quarterly Sales', x=retail_quarters_by_sales['InvoiceQuarter'], y=retail_quarters_by_sales['Total'], marker_opacity=1, text='Total', marker={'color': retail_quarters_by_sales['Total'], 'colorscale': 'Portland'})])\n",
        "fig.update_layout(title=\"Quarterly Sales\", xaxis_title=\"Quarters\", yaxis_title=\"Total Amount, £\", plot_bgcolor='white')\n",
        "fig.show()"
      ]
    },
    {
      "cell_type": "code",
      "execution_count": null,
      "metadata": {
        "id": "jw1azlOYmYXF"
      },
      "outputs": [],
      "source": [
        "# Extract and convert invoice dates to monthly periods for analysis.\n",
        "retail_monthly = retail.copy()\n",
        "retail_monthly['InvoiceMonth'] = retail_monthly['InvoiceDate'].dt.to_period('M')\n",
        "# Group by months to calculate total sales for each month.\n",
        "retail_monthly_by_sales = retail_monthly.groupby(['InvoiceMonth'], as_index=False)['Total'].agg('sum')\n",
        "# Plotting total sales by month.\n",
        "fig = go.Figure(data=[go.Bar(name='Monthly Sales', x=retail_monthly_by_sales['InvoiceMonth'].astype(str), y=retail_monthly_by_sales['Total'], marker_opacity=1, marker={'color': retail_monthly_by_sales['Total'], 'colorscale': 'Portland'})])\n",
        "fig.update_layout(title=\"Monthly Sales\", xaxis_title=\"Months\", yaxis_title=\"Total Amount, £\", plot_bgcolor='white')\n",
        "fig.show()"
      ]
    },
    {
      "cell_type": "markdown",
      "metadata": {
        "id": "VOjEzMMwmeyJ"
      },
      "source": [
        "\n",
        "# Conclusion\n",
        "### This analysis provides a comprehensive overview of the sales, customers, products, and retention rates of the online retail store. It helps to identify the most valuable customers, the bestselling products, seasonal trends, and countries contributing the most to sales."
      ]
    }
  ],
  "metadata": {
    "colab": {
      "provenance": []
    },
    "kernelspec": {
      "display_name": "Python 3",
      "name": "python3"
    },
    "language_info": {
      "codemirror_mode": {
        "name": "ipython",
        "version": 3
      },
      "file_extension": ".py",
      "mimetype": "text/x-python",
      "name": "python",
      "nbconvert_exporter": "python",
      "pygments_lexer": "ipython3",
      "version": "3.10.11"
    }
  },
  "nbformat": 4,
  "nbformat_minor": 0
}
